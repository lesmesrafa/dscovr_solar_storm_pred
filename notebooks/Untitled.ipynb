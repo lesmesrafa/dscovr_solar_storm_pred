{
 "cells": [
  {
   "cell_type": "code",
   "execution_count": 1,
   "id": "fde3bfac-a069-4a32-986a-d01278f831ee",
   "metadata": {},
   "outputs": [
    {
     "data": {
      "text/html": [
       "<pre style=\"white-space:pre;overflow-x:auto;line-height:normal;font-family:Menlo,'DejaVu Sans Mono',consolas,'Courier New',monospace\"></pre>\n"
      ],
      "text/plain": []
     },
     "metadata": {},
     "output_type": "display_data"
    },
    {
     "data": {
      "text/plain": [
       "\n",
       "\u001b[1m[\u001b[0m\n",
       "    \u001b[32m'compies'\u001b[0m,\n",
       "    \u001b[32m'reviews'\u001b[0m,\n",
       "    \u001b[32m'shuttles'\u001b[0m,\n",
       "    \u001b[32m'preprocessed_companies'\u001b[0m,\n",
       "    \u001b[32m'preprocessed_shuttles'\u001b[0m,\n",
       "    \u001b[32m'model_input_table'\u001b[0m,\n",
       "    \u001b[32m'active_modelling_pipeline.regressor'\u001b[0m,\n",
       "    \u001b[32m'candidate_modelling_pipeline.regressor'\u001b[0m,\n",
       "    \u001b[32m'parameters'\u001b[0m,\n",
       "    \u001b[32m'params:active_modelling_pipeline'\u001b[0m,\n",
       "    \u001b[32m'params:active_modelling_pipeline.model_options'\u001b[0m,\n",
       "    \u001b[32m'params:active_modelling_pipeline.model_options.test_size'\u001b[0m,\n",
       "    \u001b[32m'params:active_modelling_pipeline.model_options.random_state'\u001b[0m,\n",
       "    \u001b[32m'params:active_modelling_pipeline.model_options.features'\u001b[0m,\n",
       "    \u001b[32m'params:candidate_modelling_pipeline'\u001b[0m,\n",
       "    \u001b[32m'params:candidate_modelling_pipeline.model_options'\u001b[0m,\n",
       "    \u001b[32m'params:candidate_modelling_pipeline.model_options.test_size'\u001b[0m,\n",
       "    \u001b[32m'params:candidate_modelling_pipeline.model_options.random_state'\u001b[0m,\n",
       "    \u001b[32m'params:candidate_modelling_pipeline.model_options.features'\u001b[0m\n",
       "\u001b[1m]\u001b[0m"
      ]
     },
     "execution_count": 1,
     "metadata": {},
     "output_type": "execute_result"
    }
   ],
   "source": [
    "catalog.list()"
   ]
  },
  {
   "cell_type": "code",
   "execution_count": null,
   "id": "57f38ec7-522b-46f1-bbe9-f2ef0bddd62d",
   "metadata": {},
   "outputs": [],
   "source": []
  }
 ],
 "metadata": {
  "kernelspec": {
   "display_name": "Kedro (kedro_tutorial)",
   "language": "python",
   "name": "kedro_kedro_tutorial"
  },
  "language_info": {
   "codemirror_mode": {
    "name": "ipython",
    "version": 3
   },
   "file_extension": ".py",
   "mimetype": "text/x-python",
   "name": "python",
   "nbconvert_exporter": "python",
   "pygments_lexer": "ipython3",
   "version": "3.10.12"
  }
 },
 "nbformat": 4,
 "nbformat_minor": 5
}
